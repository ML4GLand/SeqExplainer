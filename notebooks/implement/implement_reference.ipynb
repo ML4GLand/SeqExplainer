{
 "cells": [
  {
   "cell_type": "code",
   "execution_count": 1,
   "metadata": {},
   "outputs": [
    {
     "name": "stderr",
     "output_type": "stream",
     "text": [
      "Global seed set to 13\n"
     ]
    },
    {
     "data": {
      "text/plain": [
       "'0.0.6'"
      ]
     },
     "execution_count": 1,
     "metadata": {},
     "output_type": "execute_result"
    }
   ],
   "source": [
    "import pandas as pd\n",
    "import numpy as np\n",
    "import torch\n",
    "\n",
    "# Autoreload extension\n",
    "if 'autoreload' not in get_ipython().extension_manager.loaded:\n",
    "    %load_ext autoreload\n",
    "%autoreload 2\n",
    "\n",
    "# Basic import\n",
    "import eugene as eu\n",
    "eu.__version__"
   ]
  },
  {
   "cell_type": "markdown",
   "metadata": {},
   "source": [
    "# Test data"
   ]
  },
  {
   "cell_type": "code",
   "execution_count": 2,
   "metadata": {},
   "outputs": [],
   "source": [
    "sdata = eu.datasets.random1000()"
   ]
  },
  {
   "cell_type": "code",
   "execution_count": 3,
   "metadata": {},
   "outputs": [
    {
     "data": {
      "application/vnd.jupyter.widget-view+json": {
       "model_id": "9d72b14611aa4df88c047debbe7f4f46",
       "version_major": 2,
       "version_minor": 0
      },
      "text/plain": [
       "One-hot encoding sequences:   0%|          | 0/1000 [00:00<?, ?it/s]"
      ]
     },
     "metadata": {},
     "output_type": "display_data"
    },
    {
     "name": "stdout",
     "output_type": "stream",
     "text": [
      "SeqData object modified:\n",
      "\tohe_seqs: None -> 1000 ohe_seqs added\n"
     ]
    }
   ],
   "source": [
    "eu.pp.ohe_seqs_sdata(sdata)"
   ]
  },
  {
   "cell_type": "code",
   "execution_count": 4,
   "metadata": {},
   "outputs": [
    {
     "name": "stdout",
     "output_type": "stream",
     "text": [
      "SeqData object modified:\n",
      "\tohe_rev_seqs: None -> 1000 ohe_rev_seqs added\n"
     ]
    }
   ],
   "source": [
    "eu.pp.reverse_complement_seqs_sdata(sdata)"
   ]
  },
  {
   "cell_type": "markdown",
   "metadata": {},
   "source": [
    "# Reference registry"
   ]
  },
  {
   "cell_type": "code",
   "execution_count": 53,
   "metadata": {},
   "outputs": [],
   "source": [
    "from typing import Union, Callable\n",
    "\n",
    "def ablate_first_base(seqs):\n",
    "    \"\"\"\n",
    "    Change the first base of each sequence in `seqs` to A, C, G, or T.\n",
    "    This is used for computing the DeepLIFT scores for the first base\n",
    "    \"\"\"\n",
    "    seqs[:, :, 0] = [0, 0, 0, 0]\n",
    "    return seqs\n",
    "\n",
    "def zero_ref_seqs(seqs):\n",
    "    seqs = torch.zeros(seqs.shape)\n",
    "    return seqs\n",
    "\n",
    "def gc_ref_seqs(seqs, dists=None):\n",
    "    if dists is None:\n",
    "        dists = torch.Tensor([0.3, 0.2, 0.2, 0.3])\n",
    "        seqs = dists.expand(seqs.shape[0], seqs.shape[2], 4).transpose(2, 1)\n",
    "    else:\n",
    "        seqs = dists.expand(seqs.shape[0], seqs.shape[2], 4).transpose(2, 1)\n",
    "    return seqs\n",
    "\n",
    "REFERENCE_REGISTRY = {\n",
    "    \"zero\": zero_ref_seqs,\n",
    "    \"gc\": gc_ref_seqs,\n",
    "    \"shuffle\": dinuc_shuffle_seqs,\n",
    "}\n",
    "\n",
    "def _get_reference(\n",
    "    seqs: np.ndarray,\n",
    "    method: Union[str, Callable],\n",
    "):\n",
    "    \"\"\"\n",
    "    Returns torch.Tensor reference\n",
    "    \"\"\"\n",
    "    if isinstance(method, str):\n",
    "        if method not in REFERENCE_REGISTRY:\n",
    "            raise ValueError(f\"Reference method {method} not in {list(REFERENCE_REGISTRY.keys())}\")\n",
    "        if isinstance(seqs, tuple):\n",
    "            return tuple([torch.Tensor(REFERENCE_REGISTRY[method](seqs[i])) for i in range(len(seqs))])\n",
    "        else:\n",
    "            return torch.tensor(REFERENCE_REGISTRY[method](seqs))\n",
    "    elif callable(method):\n",
    "        if isinstance(seqs, tuple):\n",
    "            return tuple([torch.Tensor(method(seqs[i])) for i in range(len(seqs))])\n",
    "        else:\n",
    "            return torch.Tensor(method(seqs))\n",
    "    else:\n",
    "        raise ValueError(f\"Reference method {method} not in {list(REFERENCE_REGISTRY.keys())}\")"
   ]
  },
  {
   "cell_type": "code",
   "execution_count": 55,
   "metadata": {},
   "outputs": [],
   "source": [
    "refs = _get_reference(ohe_seqs, \"shuffle\")"
   ]
  },
  {
   "cell_type": "code",
   "execution_count": 57,
   "metadata": {},
   "outputs": [],
   "source": [
    "refs = _get_reference((ohe_seqs, ohe_seqs), \"shuffle\")"
   ]
  },
  {
   "cell_type": "markdown",
   "metadata": {},
   "source": [
    "---"
   ]
  }
 ],
 "metadata": {
  "kernelspec": {
   "display_name": "eugene_dev",
   "language": "python",
   "name": "python3"
  },
  "language_info": {
   "codemirror_mode": {
    "name": "ipython",
    "version": 3
   },
   "file_extension": ".py",
   "mimetype": "text/x-python",
   "name": "python",
   "nbconvert_exporter": "python",
   "pygments_lexer": "ipython3",
   "version": "3.7.12 | packaged by conda-forge | (default, Oct 26 2021, 06:08:53) \n[GCC 9.4.0]"
  },
  "vscode": {
   "interpreter": {
    "hash": "f0aab14ae665ca4264878e5867720697752ca4d3a67458798aa51c276bf829a9"
   }
  }
 },
 "nbformat": 4,
 "nbformat_minor": 4
}
