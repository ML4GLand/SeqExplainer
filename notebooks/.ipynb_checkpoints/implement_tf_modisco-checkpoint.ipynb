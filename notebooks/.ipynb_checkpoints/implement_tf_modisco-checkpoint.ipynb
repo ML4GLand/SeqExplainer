{
 "cells": [
  {
   "cell_type": "code",
   "execution_count": null,
   "id": "88f22cf2-5e54-4dc4-88dc-4e52a9e8ae1e",
   "metadata": {},
   "outputs": [],
   "source": []
  }
 ],
 "metadata": {
  "kernelspec": {
   "display_name": "Python 3.7 eugene_dev",
   "language": "python",
   "name": "eugene_dev"
  },
  "language_info": {
   "codemirror_mode": {
    "name": "ipython",
    "version": 3
   },
   "file_extension": ".py",
   "mimetype": "text/x-python",
   "name": "python",
   "nbconvert_exporter": "python",
   "pygments_lexer": "ipython3",
   "version": "3.7.12"
  }
 },
 "nbformat": 4,
 "nbformat_minor": 5
}
